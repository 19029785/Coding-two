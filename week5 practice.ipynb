{
 "cells": [
  {
   "cell_type": "code",
   "execution_count": 36,
   "id": "a7d3bf20",
   "metadata": {},
   "outputs": [],
   "source": [
    "import random\n",
    "from PIL import Image, ImageDraw\n",
    "\n",
    "def generate_random_image(width, height, num_shapes, shape_types, colors):\n",
    "    # Create a new image with the specified width and height\n",
    "    image = Image.new('RGB', (width, height), color='white')\n",
    "    \n",
    "    # Get a drawing context for the image\n",
    "    draw = ImageDraw.Draw(image)\n",
    "    \n",
    "    # Loop through the number of shapes and draw each one\n",
    "    for i in range(num_shapes):\n",
    "        # Randomly select a shape type\n",
    "        shape_type = random.choice(shape_types)\n",
    "        \n",
    "        # Randomly select a color\n",
    "        color = random.choice(colors)\n",
    "        \n",
    "        # Randomly select a position and size for the shape\n",
    "        x1 = random.randint(0, width)\n",
    "        y1 = random.randint(0, height)\n",
    "        x2 = random.randint(0, width)\n",
    "        y2 = random.randint(0, height)\n",
    "        shape_size = random.randint(10, 50)\n",
    "        \n",
    "        # Draw the shape on the image\n",
    "        if shape_type == 'square':\n",
    "            draw.rectangle([(x1, y1), (x1 + shape_size, y1 + shape_size)], fill=color)\n",
    "        elif shape_type == 'circle':\n",
    "            draw.ellipse([(x1, y1), (x1 + shape_size, y1 + shape_size)], fill=color)\n",
    "        elif shape_type == 'triangle':\n",
    "            draw.polygon([(x1, y1), (x2, y2), (x1, y2)], fill=color)\n",
    "    \n",
    "    # Save the image to a file\n",
    "    image.save('random_image.png')\n"
   ]
  },
  {
   "cell_type": "code",
   "execution_count": 37,
   "id": "dfd558dc",
   "metadata": {},
   "outputs": [],
   "source": [
    "#The program create an image with the specified width and height and draw the specified number of shapes \n",
    "#on the image. Each shape should be randomly selected from the list of possible shape types and drawn at a random \n",
    "#location on the image with a random size. The color of each shape should be randomly selected from the list of \n",
    "#possible colors."
   ]
  },
  {
   "cell_type": "code",
   "execution_count": 38,
   "id": "beaa28f7",
   "metadata": {},
   "outputs": [],
   "source": [
    "# Test the function with different parameters\n",
    "width = 800\n",
    "height = 600\n",
    "num_shapes = 50\n",
    "shape_types = ['square', 'circle', 'triangle']\n",
    "colors = ['red', 'green', 'blue', 'yellow', 'purple', 'orange']\n",
    "generate_random_image(width, height, num_shapes, shape_types, colors)\n"
   ]
  },
  {
   "cell_type": "code",
   "execution_count": null,
   "id": "28da0f38",
   "metadata": {},
   "outputs": [],
   "source": []
  }
 ],
 "metadata": {
  "kernelspec": {
   "display_name": "Python 3 (ipykernel)",
   "language": "python",
   "name": "python3"
  },
  "language_info": {
   "codemirror_mode": {
    "name": "ipython",
    "version": 3
   },
   "file_extension": ".py",
   "mimetype": "text/x-python",
   "name": "python",
   "nbconvert_exporter": "python",
   "pygments_lexer": "ipython3",
   "version": "3.9.16"
  }
 },
 "nbformat": 4,
 "nbformat_minor": 5
}

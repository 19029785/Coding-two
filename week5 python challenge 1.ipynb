{
 "cells": [
  {
   "cell_type": "code",
   "execution_count": 5,
   "id": "80214d54",
   "metadata": {},
   "outputs": [],
   "source": [
    "#I am a string, but I'm not what I seem,\n",
    "#You can slice me up like a delicious ice cream.\n",
    "#Reverse me, join me, or split me in two,\n",
    "#In Python, there are many things you can do.\n",
    "\n",
    "#What am I?\n"
   ]
  },
  {
   "cell_type": "code",
   "execution_count": 6,
   "id": "e98d4055",
   "metadata": {},
   "outputs": [
    {
     "name": "stdout",
     "output_type": "stream",
     "text": [
      "The answer is: ['nohtyP', 'P-y-t-h-o-n', ['Pyt', 'hon']]\n"
     ]
    }
   ],
   "source": [
    "# Define the string to be used in the puzzle\n",
    "word = \"Python\"\n",
    "\n",
    "# Reverse the string\n",
    "reverse_word = word[::-1]\n",
    "\n",
    "# Join the string with a hyphen\n",
    "hyphen_word = \"-\".join(word)\n",
    "\n",
    "# Split the string in half\n",
    "split_word = [word[:len(word)//2], word[len(word)//2:]]\n",
    "\n",
    "# Define the answer as a list of the different manipulations of the word\n",
    "answer = [reverse_word, hyphen_word, split_word]\n",
    "\n",
    "print(\"The answer is:\", answer)\n"
   ]
  },
  {
   "cell_type": "code",
   "execution_count": null,
   "id": "bdc02850",
   "metadata": {},
   "outputs": [],
   "source": []
  }
 ],
 "metadata": {
  "kernelspec": {
   "display_name": "Python 3 (ipykernel)",
   "language": "python",
   "name": "python3"
  },
  "language_info": {
   "codemirror_mode": {
    "name": "ipython",
    "version": 3
   },
   "file_extension": ".py",
   "mimetype": "text/x-python",
   "name": "python",
   "nbconvert_exporter": "python",
   "pygments_lexer": "ipython3",
   "version": "3.9.16"
  }
 },
 "nbformat": 4,
 "nbformat_minor": 5
}

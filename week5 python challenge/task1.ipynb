{
 "cells": [
  {
   "cell_type": "code",
   "execution_count": 1,
   "id": "6781ea42",
   "metadata": {},
   "outputs": [
    {
     "name": "stdout",
     "output_type": "stream",
     "text": [
      "i hope you didnt translate it by hand. thats what computers are for.               doing it in by hand is inefficient and that's why this text is so long.              using string.maketrans() is recommended. now apply on the url.\n",
      "ocr\n"
     ]
    }
   ],
   "source": [
    "# Get the input string\n",
    "input_str = 'g fmnc wms bgblr rpylqjyrc gr zw fylb. rfyrq ufyr amknsrcpq ypc dmp. \\\n",
    "              bmgle gr gl zw fylb gq glcddgagclr ylb rfyr\\'q ufw rfgq rcvr gq qm jmle.\\\n",
    "              sqgle qrpgle.kyicrpylq() gq pcamkkclbcb. lmu ynnjw ml rfc spj.'\n",
    "              \n",
    "# Define a function to shift the characters by 2\n",
    "def shift_char(c):\n",
    "    if c.isalpha():\n",
    "        return chr((ord(c) - 97 + 2) % 26 + 97)\n",
    "    else:\n",
    "        return c\n",
    "        \n",
    "# Shift the characters in the input string by 2\n",
    "output_str = ''.join([shift_char(c) for c in input_str])\n",
    "\n",
    "# Print the output string\n",
    "print(output_str)\n",
    "\n",
    "# Shift the characters in the string 'map' by 2 and print the result\n",
    "print(''.join([shift_char(c) for c in 'map']))\n"
   ]
  },
  {
   "cell_type": "code",
   "execution_count": null,
   "id": "909afdd7",
   "metadata": {},
   "outputs": [],
   "source": []
  }
 ],
 "metadata": {
  "kernelspec": {
   "display_name": "Python 3 (ipykernel)",
   "language": "python",
   "name": "python3"
  },
  "language_info": {
   "codemirror_mode": {
    "name": "ipython",
    "version": 3
   },
   "file_extension": ".py",
   "mimetype": "text/x-python",
   "name": "python",
   "nbconvert_exporter": "python",
   "pygments_lexer": "ipython3",
   "version": "3.9.16"
  }
 },
 "nbformat": 4,
 "nbformat_minor": 5
}

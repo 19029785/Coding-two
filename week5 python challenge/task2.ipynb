{
 "cells": [
  {
   "cell_type": "code",
   "execution_count": 1,
   "id": "4f5a18ca",
   "metadata": {},
   "outputs": [
    {
     "name": "stdout",
     "output_type": "stream",
     "text": [
      "equality\n"
     ]
    }
   ],
   "source": [
    "import urllib.request\n",
    "import re\n",
    "\n",
    "url = 'http://www.pythonchallenge.com/pc/def/ocr.html'\n",
    "page = urllib.request.urlopen(url).read().decode('utf-8')\n",
    "\n",
    "# Extract the mess from the page source\n",
    "mess = re.findall('<!--(.*?)-->', page, re.DOTALL)[-1]\n",
    "\n",
    "# Count the frequency of each character\n",
    "freq = {}\n",
    "for c in mess:\n",
    "    if c in freq:\n",
    "        freq[c] += 1\n",
    "    else:\n",
    "        freq[c] = 1\n",
    "\n",
    "# Print the rare characters\n",
    "result = ''.join([c for c in mess if freq[c] < 10])\n",
    "print(result)\n"
   ]
  },
  {
   "cell_type": "code",
   "execution_count": null,
   "id": "b142f17e",
   "metadata": {},
   "outputs": [],
   "source": []
  }
 ],
 "metadata": {
  "kernelspec": {
   "display_name": "Python 3 (ipykernel)",
   "language": "python",
   "name": "python3"
  },
  "language_info": {
   "codemirror_mode": {
    "name": "ipython",
    "version": 3
   },
   "file_extension": ".py",
   "mimetype": "text/x-python",
   "name": "python",
   "nbconvert_exporter": "python",
   "pygments_lexer": "ipython3",
   "version": "3.9.16"
  }
 },
 "nbformat": 4,
 "nbformat_minor": 5
}

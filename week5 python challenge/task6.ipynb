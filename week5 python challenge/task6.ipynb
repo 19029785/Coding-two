{
 "cells": [
  {
   "cell_type": "code",
   "execution_count": 9,
   "id": "19b32b40",
   "metadata": {},
   "outputs": [
    {
     "name": "stdout",
     "output_type": "stream",
     "text": [
      "****************************************************************\n",
      "****************************************************************\n",
      "**                                                            **\n",
      "**   OO    OO    XX      YYYY    GG    GG  EEEEEE NN      NN  **\n",
      "**   OO    OO  XXXXXX   YYYYYY   GG   GG   EEEEEE  NN    NN   **\n",
      "**   OO    OO XXX  XXX YYY   YY  GG GG     EE       NN  NN    **\n",
      "**   OOOOOOOO XX    XX YY        GGG       EEEEE     NNNN     **\n",
      "**   OOOOOOOO XX    XX YY        GGG       EEEEE      NN      **\n",
      "**   OO    OO XXX  XXX YYY   YY  GG GG     EE         NN      **\n",
      "**   OO    OO  XXXXXX   YYYYYY   GG   GG   EEEEEE     NN      **\n",
      "**   OO    OO    XX      YYYY    GG    GG  EEEEEE     NN      **\n",
      "**                                                            **\n",
      "****************************************************************\n",
      " **************************************************************\n",
      "\n"
     ]
    }
   ],
   "source": [
    "import zipfile\n",
    "import re\n",
    "\n",
    "zip_file = zipfile.ZipFile(\"channel.zip\")\n",
    "\n",
    "comments = []\n",
    "number = \"90052\"\n",
    "\n",
    "while True:\n",
    "    file_content = zip_file.read(number + \".txt\").decode()\n",
    "    comments.append(zip_file.getinfo(number + \".txt\").comment.decode())\n",
    "    match = re.search(\"Next nothing is (\\d+)\", file_content)\n",
    "    if match is None:\n",
    "        break\n",
    "    number = match.group(1)\n",
    "\n",
    "print(\"\".join(comments))\n"
   ]
  },
  {
   "cell_type": "code",
   "execution_count": null,
   "id": "024b78b3",
   "metadata": {},
   "outputs": [],
   "source": []
  }
 ],
 "metadata": {
  "kernelspec": {
   "display_name": "Python 3 (ipykernel)",
   "language": "python",
   "name": "python3"
  },
  "language_info": {
   "codemirror_mode": {
    "name": "ipython",
    "version": 3
   },
   "file_extension": ".py",
   "mimetype": "text/x-python",
   "name": "python",
   "nbconvert_exporter": "python",
   "pygments_lexer": "ipython3",
   "version": "3.9.16"
  }
 },
 "nbformat": 4,
 "nbformat_minor": 5
}

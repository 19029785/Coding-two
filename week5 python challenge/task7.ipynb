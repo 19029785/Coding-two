{
 "cells": [
  {
   "cell_type": "code",
   "execution_count": 6,
   "id": "bd8c0e42",
   "metadata": {},
   "outputs": [
    {
     "name": "stdout",
     "output_type": "stream",
     "text": [
      "integrity\n"
     ]
    }
   ],
   "source": [
    "from PIL import Image\n",
    "\n",
    "image = Image.open(\"oxygen.png\")\n",
    "pixels = image.load()\n",
    "\n",
    "width, height = image.size\n",
    "middle_y = height // 2\n",
    "\n",
    "\n",
    "values = [pixels[x, middle_y][0] for x in range(width)][::7]\n",
    "\n",
    "result = \"\".join(chr(v) for v in values)\n",
    "\n",
    "start = result.index(\"[\")\n",
    "end = result.index(\"]\")\n",
    "result = result[start+1:end].split(\", \")\n",
    "\n",
    "print(\"\".join(chr(int(v)) for v in result))\n"
   ]
  },
  {
   "cell_type": "code",
   "execution_count": null,
   "id": "d9ce6068",
   "metadata": {},
   "outputs": [],
   "source": []
  },
  {
   "cell_type": "code",
   "execution_count": null,
   "id": "bd08c7b5",
   "metadata": {},
   "outputs": [],
   "source": []
  }
 ],
 "metadata": {
  "kernelspec": {
   "display_name": "Python 3 (ipykernel)",
   "language": "python",
   "name": "python3"
  },
  "language_info": {
   "codemirror_mode": {
    "name": "ipython",
    "version": 3
   },
   "file_extension": ".py",
   "mimetype": "text/x-python",
   "name": "python",
   "nbconvert_exporter": "python",
   "pygments_lexer": "ipython3",
   "version": "3.9.16"
  }
 },
 "nbformat": 4,
 "nbformat_minor": 5
}
